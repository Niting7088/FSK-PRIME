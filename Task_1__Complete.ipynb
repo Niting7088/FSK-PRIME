{
  "nbformat": 4,
  "nbformat_minor": 0,
  "metadata": {
    "colab": {
      "provenance": []
    },
    "kernelspec": {
      "name": "python3",
      "display_name": "Python 3"
    },
    "language_info": {
      "name": "python"
    }
  },
  "cells": [
    {
      "cell_type": "markdown",
      "source": [
        "# Task 1: Python Proficiency Check – AI Bootcamp Prep"
      ],
      "metadata": {
        "id": "L982FdumDCVn"
      }
    },
    {
      "cell_type": "markdown",
      "source": [
        "## Section 1: Basics & Control Flow"
      ],
      "metadata": {
        "id": "gk9AwRFXDO6n"
      }
    },
    {
      "cell_type": "markdown",
      "source": [
        "### **Task 1**: FizzBuzz with a Twist\n",
        "\n",
        "*Instruction*: Write a function that prints numbers from 1 to 50. For multiples of 3, print \"AI\", for multiples of 5 print \"Bootcamp\", and for multiples of both 3 and 5 print \"AI Bootcamp\"."
      ],
      "metadata": {
        "id": "tG2LLFb4DSrf"
      }
    },
    {
      "cell_type": "code",
      "source": [
        "def fizzbuzz_ai_bootcamp():\n",
        "  for i in range(1,51):\n",
        "    if i%3==0 and i%5==0:\n",
        "      print(\" AI Bootcamp\")\n",
        "    elif i%3==0:\n",
        "        print(\"AI\")\n",
        "    elif i%5==0:\n",
        "        print(\"Bootcamp\")\n",
        "    else:\n",
        "        print(i)\n",
        "fizzbuzz_ai_bootcamp()"
      ],
      "metadata": {
        "id": "G6YtbgenDSWH"
      },
      "execution_count": null,
      "outputs": []
    },
    {
      "cell_type": "markdown",
      "source": [
        "### **Task 2**: List Comprehensions and Functions\n",
        "\n",
        "*Instruction*: Given a list of numbers, square only the even numbers using a list comprehension and define a function that returns the result."
      ],
      "metadata": {
        "id": "8YMADBQmDhHU"
      }
    },
    {
      "cell_type": "code",
      "execution_count": null,
      "metadata": {
        "colab": {
          "base_uri": "https://localhost:8080/"
        },
        "id": "sPfpD1yF4LTO",
        "outputId": "1bd14bf9-8538-4199-e804-bda317065041"
      },
      "outputs": [
        {
          "output_type": "stream",
          "name": "stdout",
          "text": [
            "None\n"
          ]
        }
      ],
      "source": [
        "def square_evens(number):\n",
        "    for i in number:\n",
        "        if i%2==0:\n",
        "            print(i**2)\n",
        "print(square_evens([1,2,3,4,5,6]))"
      ]
    },
    {
      "cell_type": "markdown",
      "source": [
        "## Section 2: Data Structures & File I/O"
      ],
      "metadata": {
        "id": "03CKwCBtDzRL"
      }
    },
    {
      "cell_type": "markdown",
      "source": [
        "### **Task 3**: Word Frequency from a File\n",
        "\n",
        "*Instruction*: Read the provided text file (sample.txt) and return the 5 most common words (ignoring punctuation and case)."
      ],
      "metadata": {
        "id": "oh1W_9m5DuzF"
      }
    },
    {
      "cell_type": "code",
      "source": [
        "from collections import Counter\n",
        "import string\n",
        "\n",
        "def top_5_words(filepath):\n",
        "    try:\n",
        "        with open(filepath, 'r') as file:\n",
        "            text = file.read()  # Read the entire content of the file\n",
        "\n",
        "        # Normalize the text: convert to lowercase and remove punctuation\n",
        "        text = text.lower()  # Convert to lowercase\n",
        "        text = text.translate(str.maketrans('', '', string.punctuation))  # Remove punctuation\n",
        "\n",
        "        words = text.split()  # Split text into words\n",
        "        word_counts = Counter(words)  # Count occurrences of each word\n",
        "\n",
        "        return word_counts.most_common(5)  # Return the 5 most common words\n",
        "\n",
        "    except FileNotFoundError:\n",
        "        print(f\"Error: The file '{filepath}' was not found.\")\n",
        "        return []\n",
        "\n",
        "# Example usage\n",
        "print(top_5_words('Sample_For_Task1.txt'))"
      ],
      "metadata": {
        "colab": {
          "base_uri": "https://localhost:8080/"
        },
        "id": "O8u33t5ajCt8",
        "outputId": "0843557c-814a-40c2-833e-4fc26c2a76cd"
      },
      "execution_count": 5,
      "outputs": [
        {
          "output_type": "stream",
          "name": "stdout",
          "text": [
            "[('the', 5), ('quick', 2), ('fox', 2), ('dog', 2), ('and', 2)]\n"
          ]
        }
      ]
    },
    {
      "cell_type": "markdown",
      "source": [
        "## Section 3: NumPy & pandas"
      ],
      "metadata": {
        "id": "mVV1BgZvEE3a"
      }
    },
    {
      "cell_type": "markdown",
      "source": [
        "### **Task 4**: NumPy Matrix Magic\n",
        "\n",
        "*Instruction*: Create a 5x5 matrix with random integers from 1 to 10. Replace all elements greater than 5 with 0."
      ],
      "metadata": {
        "id": "opUK7Z7LEIr4"
      }
    },
    {
      "cell_type": "code",
      "source": [
        "import numpy as np\n",
        "\n",
        "def matrix_transform():\n",
        "  matrix=np.random.randint(1, 11, size=(5,5))\n",
        "  print(\"Orignal Matrix:\",matrix)\n",
        "  matrix[matrix>5]=0\n",
        "  print(\"update matrix:\",matrix)\n",
        "matrix_transform()"
      ],
      "metadata": {
        "id": "UW3FMdjQEEl3"
      },
      "execution_count": null,
      "outputs": []
    },
    {
      "cell_type": "markdown",
      "source": [
        "### **Task 5**: pandas DataFrame Manipulation\n",
        "\n",
        "*Instruction*: Given the following dictionary, convert it into a DataFrame, calculate the average score per student, and add it as a new column."
      ],
      "metadata": {
        "id": "YuFv3sE6ET9d"
      }
    },
    {
      "cell_type": "code",
      "source": [
        "import pandas as pd\n",
        "\n",
        "data = {\n",
        "    'Name': ['Alice', 'Bob', 'Charlie'],\n",
        "    'Math': [85, 78, 92],\n",
        "    'Science': [90, 88, 84],\n",
        "    'English': [87, 85, 80]\n",
        "}\n",
        "df = pd.DataFrame(data)\n",
        "\n",
        "df['Average'] = df[['Math', 'Science', 'English']].mean(axis=1)\n",
        "\n",
        "print(df)"
      ],
      "metadata": {
        "id": "horbXH8iETuH",
        "colab": {
          "base_uri": "https://localhost:8080/"
        },
        "outputId": "60307e01-9fbf-4b44-dcf8-19c13fd63054"
      },
      "execution_count": null,
      "outputs": [
        {
          "output_type": "stream",
          "name": "stdout",
          "text": [
            "      Name  Math  Science  English    Average\n",
            "0    Alice    85       90       87  87.333333\n",
            "1      Bob    78       88       85  83.666667\n",
            "2  Charlie    92       84       80  85.333333\n"
          ]
        }
      ]
    },
    {
      "cell_type": "markdown",
      "source": [
        "## Section 4: Visualization & Logic"
      ],
      "metadata": {
        "id": "GNO0DPi3EpgF"
      }
    },
    {
      "cell_type": "markdown",
      "source": [
        "### **Task 6**: Simple Data Visualization\n",
        "\n",
        "*Instruction*: Use matplotlib to create a bar chart showing the average score per subject from the DataFrame in the previous task."
      ],
      "metadata": {
        "id": "W74DNGaJEtdj"
      }
    },
    {
      "cell_type": "code",
      "source": [
        "import pandas as pd\n",
        "import matplotlib.pyplot as plt\n",
        "\n",
        "data = {\n",
        "    'Name': ['Alice', 'Bob', 'Charlie'],\n",
        "    'Math': [85, 78, 92],\n",
        "    'Science': [90, 88, 84],\n",
        "    'English': [87, 85, 80]\n",
        "}\n",
        "df = pd.DataFrame(data)\n",
        "\n",
        "subject_averages = df[['Math', 'Science', 'English']].mean()\n",
        "\n",
        "plt.figure(figsize=(8, 5))\n",
        "subject_averages.plot(kind='bar', color='skyblue', edgecolor='black')\n",
        "plt.title('Average Score per Subject')\n",
        "plt.ylabel('Average Score')\n",
        "plt.xlabel('Subject')\n",
        "plt.ylim(0, 100)\n",
        "plt.grid(axis='y', linestyle='--', alpha=0.7)\n",
        "plt.tight_layout()\n",
        "plt.show()"
      ],
      "metadata": {
        "id": "aM8iWEAXEOmE"
      },
      "execution_count": null,
      "outputs": []
    },
    {
      "cell_type": "markdown",
      "source": [
        "## Section 5: Mini-Project Challenge"
      ],
      "metadata": {
        "id": "yFxPFagsE9mS"
      }
    },
    {
      "cell_type": "markdown",
      "source": [
        "### **Task 7**: Build a Mini Calculator with Exception Handling\n",
        "\n",
        "*Instruction*: Write a function that takes two numbers and an operator as input (+, -, *, /). Return the result, and handle divide-by-zero and invalid operator cases with appropriate error messages."
      ],
      "metadata": {
        "id": "IZwIOzHXFD1a"
      }
    },
    {
      "cell_type": "code",
      "source": [
        "def calculator(a, b, operator):\n",
        "    if operator==\"+\":\n",
        "      print(\"sumation of a and b is  = \",a+b)\n",
        "    elif operator==\"-\":\n",
        "      print(\"Subtraction of a and b is = \",a-b)\n",
        "    elif operator==\"*\":\n",
        "      print(\"MUltiplication of a and b is = \",a*b)\n",
        "    elif operator==\"/\":\n",
        "      if b==0:\n",
        "        print(\"Not divisible\")\n",
        "      else:\n",
        "          print(\"Division of a and b is = \",a/b)\n",
        "    else:\n",
        "      print(\"Invalid operator \")\n",
        "calculator(10, 0, '/')"
      ],
      "metadata": {
        "colab": {
          "base_uri": "https://localhost:8080/"
        },
        "outputId": "98798ccd-4bf3-4961-a3e3-6c1269786a94",
        "id": "mISAboMp3a_e"
      },
      "execution_count": null,
      "outputs": [
        {
          "output_type": "stream",
          "name": "stdout",
          "text": [
            "Not divisible\n"
          ]
        }
      ]
    }
  ]
}